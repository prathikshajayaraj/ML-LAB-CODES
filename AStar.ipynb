{
 "cells": [
  {
   "cell_type": "code",
   "execution_count": 1,
   "id": "62c311b4",
   "metadata": {},
   "outputs": [],
   "source": [
    "def aStarAlgo(start_node, stop_node):\n",
    "         \n",
    "        open_set = set(start_node) \n",
    "        closed_set = set()\n",
    "        g = {}          # Store distance from starting node\n",
    "        parents = {}    # Parents contains an adjacency map of all nodes\n",
    " \n",
    "        # Distance of starting node from itself is zero\n",
    "        g[start_node] = 0\n",
    "        \n",
    "        # Start_node is root node i.e it has no parent nodes\n",
    "        # so start_node is set to its own parent node\n",
    "        parents[start_node] = start_node\n",
    "         \n",
    "         \n",
    "        while len(open_set) > 0:\n",
    "            n = None\n",
    " \n",
    "            # node with lowest f() is found\n",
    "            for v in open_set:\n",
    "                if n == None or g[v] + heuristic(v) < g[n] + heuristic(n):\n",
    "                    n = v\n",
    "                                 \n",
    "            if n == stop_node or Graph_nodes[n] == None:\n",
    "                pass\n",
    "            \n",
    "            else:\n",
    "                for (m, weight) in get_neighbors(n):\n",
    "                    # nodes 'm' not in first and last set are added to first\n",
    "                    # n is set its parent\n",
    "                    if m not in open_set and m not in closed_set:\n",
    "                        open_set.add(m)\n",
    "                        parents[m] = n\n",
    "                        g[m] = g[n] + weight\n",
    "                         \n",
    "     \n",
    "                    # for each node m,compare its distance from start i.e g(m) to the\n",
    "                    # from start through n node\n",
    "                    else:\n",
    "                        if g[m] > g[n] + weight:\n",
    "                            # update g(m)\n",
    "                            g[m] = g[n] + weight\n",
    "                            # change parent of m to n\n",
    "                            parents[m] = n\n",
    "                             \n",
    "                            # if m in closed set,remove and add to open\n",
    "                            if m in closed_set:\n",
    "                                closed_set.remove(m)\n",
    "                                open_set.add(m)\n",
    " \n",
    "            if n == None:\n",
    "                print('Path does not exist!')\n",
    "                return None\n",
    " \n",
    "            # if the current node is the stop_node\n",
    "            # then we begin reconstructin the path from it to the start_node\n",
    "            if n == stop_node:\n",
    "                path = []\n",
    " \n",
    "                while parents[n] != n:\n",
    "                    path.append(n)\n",
    "                    n = parents[n]\n",
    " \n",
    "                path.append(start_node)\n",
    " \n",
    "                path.reverse()\n",
    " \n",
    "                print('Path found: {}'.format(path))\n",
    "                return path\n",
    " \n",
    " \n",
    "            # remove n from the open_list, and add it to closed_list\n",
    "            # because all of his neighbors were inspected\n",
    "            open_set.remove(n)\n",
    "            closed_set.add(n)\n",
    " \n",
    "        print('Path does not exist!')\n",
    "        return None  "
   ]
  },
  {
   "cell_type": "code",
   "execution_count": 2,
   "id": "5412526b",
   "metadata": {},
   "outputs": [],
   "source": [
    "# define fuction to return neighbor and its distance\n",
    "# from the passed node\n",
    "def get_neighbors(v):\n",
    "    if v in Graph_nodes:\n",
    "        return Graph_nodes[v]\n",
    "    else:\n",
    "        return None"
   ]
  },
  {
   "cell_type": "code",
   "execution_count": 7,
   "id": "5d8afba8",
   "metadata": {},
   "outputs": [],
   "source": [
    "# For simplicity we ll consider heuristic distances given\n",
    "# and this function returns heuristic distance for all nodes\n",
    "def heuristic(n):\n",
    "        H_dist = {\n",
    "            'A': 11,\n",
    "            'B': 6,\n",
    "            'C': 99,\n",
    "            'D': 1,\n",
    "            'E': 7,\n",
    "            'G': 0,\n",
    "             \n",
    "        }\n",
    " \n",
    "        return H_dist[n]"
   ]
  },
  {
   "cell_type": "code",
   "execution_count": 8,
   "id": "1af9b83c",
   "metadata": {},
   "outputs": [],
   "source": [
    "# Describe your graph here  \n",
    "Graph_nodes = {\n",
    "    'A': [('B', 2), ('E', 3)],\n",
    "    'B': [('C', 1),('G', 9)],\n",
    "    'C': None,\n",
    "    'E': [('D', 6)],\n",
    "    'D': [('G', 1)],\n",
    "     \n",
    "}"
   ]
  },
  {
   "cell_type": "code",
   "execution_count": 11,
   "id": "03f05800",
   "metadata": {},
   "outputs": [
    {
     "name": "stdout",
     "output_type": "stream",
     "text": [
      "Path found: ['A', 'E', 'D', 'G']\n"
     ]
    },
    {
     "data": {
      "text/plain": [
       "['A', 'E', 'D', 'G']"
      ]
     },
     "execution_count": 11,
     "metadata": {},
     "output_type": "execute_result"
    }
   ],
   "source": [
    "aStarAlgo('A', 'G')"
   ]
  },
  {
   "cell_type": "code",
   "execution_count": null,
   "id": "f2a9cfb8",
   "metadata": {},
   "outputs": [],
   "source": []
  }
 ],
 "metadata": {
  "kernelspec": {
   "display_name": "Python 3 (ipykernel)",
   "language": "python",
   "name": "python3"
  },
  "language_info": {
   "codemirror_mode": {
    "name": "ipython",
    "version": 3
   },
   "file_extension": ".py",
   "mimetype": "text/x-python",
   "name": "python",
   "nbconvert_exporter": "python",
   "pygments_lexer": "ipython3",
   "version": "3.9.13"
  }
 },
 "nbformat": 4,
 "nbformat_minor": 5
}
